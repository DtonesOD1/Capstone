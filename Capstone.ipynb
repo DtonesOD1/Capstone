{
 "cells": [
  {
   "cell_type": "code",
   "execution_count": 4,
   "id": "d0f1c9a0-8572-4860-a90a-e664f8d7221a",
   "metadata": {},
   "outputs": [
    {
     "name": "stdout",
     "output_type": "stream",
     "text": [
      "Collecting numbers-parser\n",
      "  Downloading numbers_parser-3.9.3-py3-none-any.whl (278 kB)\n",
      "\u001b[K     |████████████████████████████████| 278 kB 2.8 MB/s eta 0:00:01\n",
      "\u001b[?25hCollecting compact-json<2.0.0,>=1.1.3\n",
      "  Downloading compact_json-1.3.1-py3-none-any.whl (13 kB)\n",
      "Collecting protobuf<5.0.0,>=4.21.1\n",
      "  Downloading protobuf-4.21.12-cp37-abi3-macosx_10_9_universal2.whl (486 kB)\n",
      "\u001b[K     |████████████████████████████████| 486 kB 3.1 MB/s eta 0:00:01\n",
      "\u001b[?25hCollecting python-magic<0.5.0,>=0.4.27\n",
      "  Downloading python_magic-0.4.27-py2.py3-none-any.whl (13 kB)\n",
      "Collecting python-snappy<0.7.0,>=0.6.1\n",
      "  Downloading python_snappy-0.6.1-cp38-cp38-macosx_10_9_x86_64.whl (43 kB)\n",
      "\u001b[K     |████████████████████████████████| 43 kB 6.7 MB/s  eta 0:00:01\n",
      "\u001b[?25hCollecting roman<4.0,>=3.3\n",
      "  Downloading roman-3.3-py2.py3-none-any.whl (3.9 kB)\n",
      "Collecting pendulum<3.0.0,>=2.1.2\n",
      "  Downloading pendulum-2.1.2-cp38-cp38-macosx_10_15_x86_64.whl (124 kB)\n",
      "\u001b[K     |████████████████████████████████| 124 kB 8.7 MB/s eta 0:00:01\n",
      "\u001b[?25hCollecting regex<2023.0.0,>=2022.9.13\n",
      "  Downloading regex-2022.10.31-cp38-cp38-macosx_10_9_x86_64.whl (294 kB)\n",
      "\u001b[K     |████████████████████████████████| 294 kB 7.4 MB/s eta 0:00:01\n",
      "\u001b[?25hRequirement already satisfied: wcwidth<0.3.0,>=0.2.5 in /opt/anaconda3/lib/python3.8/site-packages (from compact-json<2.0.0,>=1.1.3->numbers-parser) (0.2.5)\n",
      "Requirement already satisfied: python-dateutil<3.0,>=2.6 in /opt/anaconda3/lib/python3.8/site-packages (from pendulum<3.0.0,>=2.1.2->numbers-parser) (2.8.1)\n",
      "Collecting pytzdata>=2020.1\n",
      "  Downloading pytzdata-2020.1-py2.py3-none-any.whl (489 kB)\n",
      "\u001b[K     |████████████████████████████████| 489 kB 8.9 MB/s eta 0:00:01\n",
      "\u001b[?25hRequirement already satisfied: six>=1.5 in /opt/anaconda3/lib/python3.8/site-packages (from python-dateutil<3.0,>=2.6->pendulum<3.0.0,>=2.1.2->numbers-parser) (1.15.0)\n",
      "Installing collected packages: pytzdata, roman, regex, python-snappy, python-magic, protobuf, pendulum, compact-json, numbers-parser\n",
      "  Attempting uninstall: regex\n",
      "    Found existing installation: regex 2021.4.4\n",
      "    Uninstalling regex-2021.4.4:\n",
      "      Successfully uninstalled regex-2021.4.4\n",
      "Successfully installed compact-json-1.3.1 numbers-parser-3.9.3 pendulum-2.1.2 protobuf-4.21.12 python-magic-0.4.27 python-snappy-0.6.1 pytzdata-2020.1 regex-2022.10.31 roman-3.3\n"
     ]
    }
   ],
   "source": [
    "! pip install numbers-parser"
   ]
  },
  {
   "cell_type": "code",
   "execution_count": 38,
   "id": "d898fd5c-98c4-47d8-bbe8-87085ef563c0",
   "metadata": {},
   "outputs": [],
   "source": [
    "import pandas as pd\n",
    "import numpy as np"
   ]
  },
  {
   "cell_type": "code",
   "execution_count": null,
   "id": "b449daf6-3fa8-4227-9647-b5ac31d6a2d3",
   "metadata": {},
   "outputs": [],
   "source": []
  },
  {
   "cell_type": "code",
   "execution_count": 30,
   "id": "0a12758f-26ba-443f-bd26-02eb236a6978",
   "metadata": {},
   "outputs": [],
   "source": [
    "# Importing dataset\n",
    "df = pd.read_csv('/Users/natashawyatt/Documents/Flatiron_school/capstone/wrap.csv')\n",
    "\n"
   ]
  },
  {
   "cell_type": "code",
   "execution_count": 39,
   "id": "0c55defc-4373-43b1-8781-7d15220577f9",
   "metadata": {},
   "outputs": [
    {
     "data": {
      "text/html": [
       "<div>\n",
       "<style scoped>\n",
       "    .dataframe tbody tr th:only-of-type {\n",
       "        vertical-align: middle;\n",
       "    }\n",
       "\n",
       "    .dataframe tbody tr th {\n",
       "        vertical-align: top;\n",
       "    }\n",
       "\n",
       "    .dataframe thead th {\n",
       "        text-align: right;\n",
       "    }\n",
       "</style>\n",
       "<table border=\"1\" class=\"dataframe\">\n",
       "  <thead>\n",
       "    <tr style=\"text-align: right;\">\n",
       "      <th></th>\n",
       "      <th>Unnamed: 0</th>\n",
       "      <th>Date</th>\n",
       "      <th>Transaction Type</th>\n",
       "      <th>Num</th>\n",
       "      <th>Customer</th>\n",
       "      <th>Memo/Description</th>\n",
       "      <th>Qty</th>\n",
       "      <th>Sales Price</th>\n",
       "      <th>Amount</th>\n",
       "      <th>Balance</th>\n",
       "    </tr>\n",
       "  </thead>\n",
       "  <tbody>\n",
       "    <tr>\n",
       "      <th>0</th>\n",
       "      <td>FireWrap Grip Kit - Light Blue</td>\n",
       "      <td>NaN</td>\n",
       "      <td>NaN</td>\n",
       "      <td>NaN</td>\n",
       "      <td>NaN</td>\n",
       "      <td>NaN</td>\n",
       "      <td>NaN</td>\n",
       "      <td>NaN</td>\n",
       "      <td>NaN</td>\n",
       "      <td>NaN</td>\n",
       "    </tr>\n",
       "    <tr>\n",
       "      <th>1</th>\n",
       "      <td>NaN</td>\n",
       "      <td>03/23/2018</td>\n",
       "      <td>Sales Receipt</td>\n",
       "      <td>#1394</td>\n",
       "      <td>NaN</td>\n",
       "      <td>FireWrap  Grip Kit - Pre-Order</td>\n",
       "      <td>1.0</td>\n",
       "      <td>24.95</td>\n",
       "      <td>24.95</td>\n",
       "      <td>24.95</td>\n",
       "    </tr>\n",
       "    <tr>\n",
       "      <th>2</th>\n",
       "      <td>NaN</td>\n",
       "      <td>04/26/2018</td>\n",
       "      <td>Sales Receipt</td>\n",
       "      <td>#1477</td>\n",
       "      <td>NaN</td>\n",
       "      <td>FireWrap  Grip Kit - Pre-Order</td>\n",
       "      <td>1.0</td>\n",
       "      <td>24.95</td>\n",
       "      <td>24.95</td>\n",
       "      <td>49.90</td>\n",
       "    </tr>\n",
       "    <tr>\n",
       "      <th>3</th>\n",
       "      <td>NaN</td>\n",
       "      <td>04/27/2018</td>\n",
       "      <td>Sales Receipt</td>\n",
       "      <td>#1511</td>\n",
       "      <td>NaN</td>\n",
       "      <td>FireWrap  Grip Kit - Pre-Order</td>\n",
       "      <td>1.0</td>\n",
       "      <td>24.95</td>\n",
       "      <td>24.95</td>\n",
       "      <td>74.85</td>\n",
       "    </tr>\n",
       "    <tr>\n",
       "      <th>4</th>\n",
       "      <td>NaN</td>\n",
       "      <td>05/14/2018</td>\n",
       "      <td>Sales Receipt</td>\n",
       "      <td>#1617</td>\n",
       "      <td>NaN</td>\n",
       "      <td>FireWrap  Grip Kit</td>\n",
       "      <td>1.0</td>\n",
       "      <td>34.95</td>\n",
       "      <td>34.95</td>\n",
       "      <td>109.80</td>\n",
       "    </tr>\n",
       "  </tbody>\n",
       "</table>\n",
       "</div>"
      ],
      "text/plain": [
       "                       Unnamed: 0        Date Transaction Type    Num  \\\n",
       "0  FireWrap Grip Kit - Light Blue         NaN              NaN    NaN   \n",
       "1                             NaN  03/23/2018    Sales Receipt  #1394   \n",
       "2                             NaN  04/26/2018    Sales Receipt  #1477   \n",
       "3                             NaN  04/27/2018    Sales Receipt  #1511   \n",
       "4                             NaN  05/14/2018    Sales Receipt  #1617   \n",
       "\n",
       "   Customer                Memo/Description  Qty  Sales Price   Amount  \\\n",
       "0       NaN                             NaN  NaN          NaN      NaN   \n",
       "1       NaN  FireWrap  Grip Kit - Pre-Order  1.0        24.95  24.95     \n",
       "2       NaN  FireWrap  Grip Kit - Pre-Order  1.0        24.95  24.95     \n",
       "3       NaN  FireWrap  Grip Kit - Pre-Order  1.0        24.95  24.95     \n",
       "4       NaN              FireWrap  Grip Kit  1.0        34.95  34.95     \n",
       "\n",
       "    Balance  \n",
       "0       NaN  \n",
       "1   24.95    \n",
       "2   49.90    \n",
       "3   74.85    \n",
       "4  109.80    "
      ]
     },
     "execution_count": 39,
     "metadata": {},
     "output_type": "execute_result"
    }
   ],
   "source": [
    "# Taking a look at the first few rows...\n",
    "df.head()"
   ]
  },
  {
   "cell_type": "code",
   "execution_count": 40,
   "id": "eb36d519-9d79-4428-b04a-232132bc8cfa",
   "metadata": {},
   "outputs": [
    {
     "name": "stdout",
     "output_type": "stream",
     "text": [
      "<class 'pandas.core.frame.DataFrame'>\n",
      "RangeIndex: 5801 entries, 0 to 5800\n",
      "Data columns (total 10 columns):\n",
      " #   Column            Non-Null Count  Dtype  \n",
      "---  ------            --------------  -----  \n",
      " 0   Unnamed: 0        38 non-null     object \n",
      " 1   Date              5761 non-null   object \n",
      " 2   Transaction Type  5761 non-null   object \n",
      " 3   Num               5761 non-null   object \n",
      " 4   Customer          0 non-null      float64\n",
      " 5   Memo/Description  5558 non-null   object \n",
      " 6   Qty               5780 non-null   float64\n",
      " 7   Sales Price       5747 non-null   float64\n",
      " 8   Amount            5780 non-null   object \n",
      " 9   Balance           5761 non-null   object \n",
      "dtypes: float64(3), object(7)\n",
      "memory usage: 453.3+ KB\n"
     ]
    }
   ],
   "source": [
    "# Checking the columns, Dtype, and number of rows..\n",
    "df.info()"
   ]
  },
  {
   "cell_type": "markdown",
   "id": "039db1bc-d604-4359-a140-b0740e5dcc90",
   "metadata": {},
   "source": [
    "### Data Understanding\n",
    "After just a quick look at the dataset we see there are 10 rows of which almost all of them are 'object' which means they are not in numerical form, the Non-Null Count also varies between column. The 'Unnamed : 0' column looks to be the product type and the 'Customer' column was cleared previously so no personal information would be shared. We will continue to look at each column individually in an effort to understand the data, and clean it in order for it to be used for modelling. For example, we need to understand what is the difference between 'Sales Price', 'Amount', and 'Balance'.\n",
    "First lets look at the 'Unnamed: 0' column.\n",
    "****\n",
    "##### Unnamed: 0"
   ]
  },
  {
   "cell_type": "code",
   "execution_count": 43,
   "id": "e5391699-4360-459b-86de-e8c4f8b6213f",
   "metadata": {},
   "outputs": [
    {
     "data": {
      "text/plain": [
       "array(['FireWrap Grip Kit - Light Blue', nan,\n",
       "       'Total for FireWrap Grip Kit - Light Blue',\n",
       "       'FireWrap Grip Kit - Pink', 'Total for FireWrap Grip Kit - Pink',\n",
       "       'FireWrap® Grip Kit Black', 'Total for FireWrap® Grip Kit Black',\n",
       "       'FireWrap® Grip Kit Blue', 'Total for FireWrap® Grip Kit Blue',\n",
       "       'FireWrap® Grip Kit GLOW - Aqua',\n",
       "       'Total for FireWrap® Grip Kit GLOW - Aqua',\n",
       "       'FireWrap® Grip Kit GLOW - Green ( 927 )',\n",
       "       'Total for FireWrap® Grip Kit GLOW - Green ( 927 )',\n",
       "       'FireWrap® Grip Kit Orange', 'Total for FireWrap® Grip Kit Orange',\n",
       "       'FireWrap® Grip Kit Red', 'Total for FireWrap® Grip Kit Red',\n",
       "       'FireWrap® Grip Kit Yellow', 'Total for FireWrap® Grip Kit Yellow',\n",
       "       'FWGK-GL-AQ', 'Total for FWGK-GL-AQ', 'FWGK-GL-GRN',\n",
       "       'Total for FWGK-GL-GRN', 'FWGK-SC-BLK', 'Total for FWGK-SC-BLK',\n",
       "       'FWGK-SC-BLU', 'Total for FWGK-SC-BLU', 'FWGK-SC-GRN',\n",
       "       'Total for FWGK-SC-GRN', 'FWGK-SC-ORG', 'Total for FWGK-SC-ORG',\n",
       "       'FWGK-SC-RD', 'Total for FWGK-SC-RD', 'FWGK-SC-WHT',\n",
       "       'Total for FWGK-SC-WHT', 'FWGK-SC-YLW', 'Total for FWGK-SC-YLW',\n",
       "       'TOTAL',\n",
       "       'Wednesday, Jan 11, 2023 10:03:05 AM GMT-8 - Accrual Basis'],\n",
       "      dtype=object)"
      ]
     },
     "execution_count": 43,
     "metadata": {},
     "output_type": "execute_result"
    }
   ],
   "source": [
    "df['Unnamed: 0'].unique()"
   ]
  },
  {
   "cell_type": "markdown",
   "id": "7c811945-fcfc-479c-b50a-029fa1e4562b",
   "metadata": {},
   "source": [
    "#### Product names\n",
    "We see that there are a few issues here. First there is a product for each available color and the total sales for that product are in this column. They should be separated to make it easier to decipher in the pandas dataframe. Also I know that 'FWGK-SC-BLK' is the same product as 'FireWrap® Grip Kit Black', the reason for this is just the way they were logged into the company's system. I will attempt to combine the corresponding colors appropriately, but this does lead us to a question. Does the color of the Grip Kit have an impact on sales? The answer to this question is something that we will try to find in our EDA phase.\n",
    "\n",
    "For now we will begin by renaming the column and then try to simplify the product names."
   ]
  },
  {
   "cell_type": "code",
   "execution_count": 45,
   "id": "967a6fb6-e92a-4184-b634-90e690f6cc24",
   "metadata": {},
   "outputs": [
    {
     "data": {
      "text/html": [
       "<div>\n",
       "<style scoped>\n",
       "    .dataframe tbody tr th:only-of-type {\n",
       "        vertical-align: middle;\n",
       "    }\n",
       "\n",
       "    .dataframe tbody tr th {\n",
       "        vertical-align: top;\n",
       "    }\n",
       "\n",
       "    .dataframe thead th {\n",
       "        text-align: right;\n",
       "    }\n",
       "</style>\n",
       "<table border=\"1\" class=\"dataframe\">\n",
       "  <thead>\n",
       "    <tr style=\"text-align: right;\">\n",
       "      <th></th>\n",
       "      <th>Product ID</th>\n",
       "      <th>Date</th>\n",
       "      <th>Transaction Type</th>\n",
       "      <th>Num</th>\n",
       "      <th>Customer</th>\n",
       "      <th>Memo/Description</th>\n",
       "      <th>Qty</th>\n",
       "      <th>Sales Price</th>\n",
       "      <th>Amount</th>\n",
       "      <th>Balance</th>\n",
       "    </tr>\n",
       "  </thead>\n",
       "  <tbody>\n",
       "    <tr>\n",
       "      <th>0</th>\n",
       "      <td>FireWrap Grip Kit - Light Blue</td>\n",
       "      <td>NaN</td>\n",
       "      <td>NaN</td>\n",
       "      <td>NaN</td>\n",
       "      <td>NaN</td>\n",
       "      <td>NaN</td>\n",
       "      <td>NaN</td>\n",
       "      <td>NaN</td>\n",
       "      <td>NaN</td>\n",
       "      <td>NaN</td>\n",
       "    </tr>\n",
       "    <tr>\n",
       "      <th>1</th>\n",
       "      <td>NaN</td>\n",
       "      <td>03/23/2018</td>\n",
       "      <td>Sales Receipt</td>\n",
       "      <td>#1394</td>\n",
       "      <td>NaN</td>\n",
       "      <td>FireWrap  Grip Kit - Pre-Order</td>\n",
       "      <td>1.0</td>\n",
       "      <td>24.95</td>\n",
       "      <td>24.95</td>\n",
       "      <td>24.95</td>\n",
       "    </tr>\n",
       "    <tr>\n",
       "      <th>2</th>\n",
       "      <td>NaN</td>\n",
       "      <td>04/26/2018</td>\n",
       "      <td>Sales Receipt</td>\n",
       "      <td>#1477</td>\n",
       "      <td>NaN</td>\n",
       "      <td>FireWrap  Grip Kit - Pre-Order</td>\n",
       "      <td>1.0</td>\n",
       "      <td>24.95</td>\n",
       "      <td>24.95</td>\n",
       "      <td>49.90</td>\n",
       "    </tr>\n",
       "    <tr>\n",
       "      <th>3</th>\n",
       "      <td>NaN</td>\n",
       "      <td>04/27/2018</td>\n",
       "      <td>Sales Receipt</td>\n",
       "      <td>#1511</td>\n",
       "      <td>NaN</td>\n",
       "      <td>FireWrap  Grip Kit - Pre-Order</td>\n",
       "      <td>1.0</td>\n",
       "      <td>24.95</td>\n",
       "      <td>24.95</td>\n",
       "      <td>74.85</td>\n",
       "    </tr>\n",
       "    <tr>\n",
       "      <th>4</th>\n",
       "      <td>NaN</td>\n",
       "      <td>05/14/2018</td>\n",
       "      <td>Sales Receipt</td>\n",
       "      <td>#1617</td>\n",
       "      <td>NaN</td>\n",
       "      <td>FireWrap  Grip Kit</td>\n",
       "      <td>1.0</td>\n",
       "      <td>34.95</td>\n",
       "      <td>34.95</td>\n",
       "      <td>109.80</td>\n",
       "    </tr>\n",
       "  </tbody>\n",
       "</table>\n",
       "</div>"
      ],
      "text/plain": [
       "                       Product ID        Date Transaction Type    Num  \\\n",
       "0  FireWrap Grip Kit - Light Blue         NaN              NaN    NaN   \n",
       "1                             NaN  03/23/2018    Sales Receipt  #1394   \n",
       "2                             NaN  04/26/2018    Sales Receipt  #1477   \n",
       "3                             NaN  04/27/2018    Sales Receipt  #1511   \n",
       "4                             NaN  05/14/2018    Sales Receipt  #1617   \n",
       "\n",
       "   Customer                Memo/Description  Qty  Sales Price   Amount  \\\n",
       "0       NaN                             NaN  NaN          NaN      NaN   \n",
       "1       NaN  FireWrap  Grip Kit - Pre-Order  1.0        24.95  24.95     \n",
       "2       NaN  FireWrap  Grip Kit - Pre-Order  1.0        24.95  24.95     \n",
       "3       NaN  FireWrap  Grip Kit - Pre-Order  1.0        24.95  24.95     \n",
       "4       NaN              FireWrap  Grip Kit  1.0        34.95  34.95     \n",
       "\n",
       "    Balance  \n",
       "0       NaN  \n",
       "1   24.95    \n",
       "2   49.90    \n",
       "3   74.85    \n",
       "4  109.80    "
      ]
     },
     "execution_count": 45,
     "metadata": {},
     "output_type": "execute_result"
    }
   ],
   "source": [
    "#Changing column name to Product Id:\n",
    "df= df.rename(columns={\"Unnamed: 0\": \"Product ID\"})\n",
    "df.head()"
   ]
  },
  {
   "cell_type": "code",
   "execution_count": 46,
   "id": "2199ccda-a74e-4cf9-b9fe-7052d01350a5",
   "metadata": {},
   "outputs": [],
   "source": [
    "# Replacing the 'FWGK-SC-BLK' with full product name for clarity..\n",
    "df.replace({'FireWrap® Grip Kit Black':'FWGK-SC-BLK'}, inplace = True)\n"
   ]
  },
  {
   "cell_type": "code",
   "execution_count": 50,
   "id": "200acc33-10fb-4cb9-ab76-cbfd330a2238",
   "metadata": {},
   "outputs": [],
   "source": [
    "# Taking it one step more and making the product name easier to work with...\n",
    "df['Product ID'].replace({'FireWrap® Grip Kit Black':'black_grip_kit'}, inplace=True)"
   ]
  },
  {
   "cell_type": "markdown",
   "id": "3c0f3ced-73fc-407d-bd1f-1c59296071b7",
   "metadata": {},
   "source": [
    "*** \n",
    "This seems a little labor intensive to do for the 9 different colors, especially when we dont know if the colors will matter at the end of the day when it comes to the models. Lets create a function to make this a little easier.\n"
   ]
  },
  {
   "cell_type": "code",
   "execution_count": null,
   "id": "5d447e3a-b61d-4f99-a652-1502689ff769",
   "metadata": {},
   "outputs": [],
   "source": [
    "# WIP\n",
    "\n",
    "def merge_rename_products(df, product_map, rename_to):\n",
    "    # replace product Ids with new names\n",
    "    df['Product'] = df['Product'].replace(product_map)\n",
    "    # group by the new product names\n",
    "    df = df.groupby(['Product']).sum()\n",
    "    # rename the column\n",
    "    df.rename(columns={'Product':rename_to}, inplace=True)\n",
    "    return df\n"
   ]
  },
  {
   "cell_type": "code",
   "execution_count": null,
   "id": "4345f13b-2a12-4835-bbb0-c18672c2cf16",
   "metadata": {},
   "outputs": [],
   "source": [
    "# WIP"
   ]
  },
  {
   "cell_type": "code",
   "execution_count": 51,
   "id": "a4f95626-7f96-4789-8def-ad944698366d",
   "metadata": {},
   "outputs": [
    {
     "data": {
      "text/html": [
       "<div>\n",
       "<style scoped>\n",
       "    .dataframe tbody tr th:only-of-type {\n",
       "        vertical-align: middle;\n",
       "    }\n",
       "\n",
       "    .dataframe tbody tr th {\n",
       "        vertical-align: top;\n",
       "    }\n",
       "\n",
       "    .dataframe thead th {\n",
       "        text-align: right;\n",
       "    }\n",
       "</style>\n",
       "<table border=\"1\" class=\"dataframe\">\n",
       "  <thead>\n",
       "    <tr style=\"text-align: right;\">\n",
       "      <th></th>\n",
       "      <th>Product ID</th>\n",
       "      <th>Date</th>\n",
       "      <th>Transaction Type</th>\n",
       "      <th>Num</th>\n",
       "      <th>Customer</th>\n",
       "      <th>Memo/Description</th>\n",
       "      <th>Qty</th>\n",
       "      <th>Sales Price</th>\n",
       "      <th>Amount</th>\n",
       "      <th>Balance</th>\n",
       "    </tr>\n",
       "  </thead>\n",
       "  <tbody>\n",
       "    <tr>\n",
       "      <th>0</th>\n",
       "      <td>FireWrap Grip Kit - Light Blue</td>\n",
       "      <td>NaN</td>\n",
       "      <td>NaN</td>\n",
       "      <td>NaN</td>\n",
       "      <td>NaN</td>\n",
       "      <td>NaN</td>\n",
       "      <td>NaN</td>\n",
       "      <td>NaN</td>\n",
       "      <td>NaN</td>\n",
       "      <td>NaN</td>\n",
       "    </tr>\n",
       "    <tr>\n",
       "      <th>1</th>\n",
       "      <td>NaN</td>\n",
       "      <td>03/23/2018</td>\n",
       "      <td>Sales Receipt</td>\n",
       "      <td>#1394</td>\n",
       "      <td>NaN</td>\n",
       "      <td>FireWrap  Grip Kit - Pre-Order</td>\n",
       "      <td>1.0</td>\n",
       "      <td>24.95</td>\n",
       "      <td>24.95</td>\n",
       "      <td>24.95</td>\n",
       "    </tr>\n",
       "    <tr>\n",
       "      <th>2</th>\n",
       "      <td>NaN</td>\n",
       "      <td>04/26/2018</td>\n",
       "      <td>Sales Receipt</td>\n",
       "      <td>#1477</td>\n",
       "      <td>NaN</td>\n",
       "      <td>FireWrap  Grip Kit - Pre-Order</td>\n",
       "      <td>1.0</td>\n",
       "      <td>24.95</td>\n",
       "      <td>24.95</td>\n",
       "      <td>49.90</td>\n",
       "    </tr>\n",
       "    <tr>\n",
       "      <th>3</th>\n",
       "      <td>NaN</td>\n",
       "      <td>04/27/2018</td>\n",
       "      <td>Sales Receipt</td>\n",
       "      <td>#1511</td>\n",
       "      <td>NaN</td>\n",
       "      <td>FireWrap  Grip Kit - Pre-Order</td>\n",
       "      <td>1.0</td>\n",
       "      <td>24.95</td>\n",
       "      <td>24.95</td>\n",
       "      <td>74.85</td>\n",
       "    </tr>\n",
       "    <tr>\n",
       "      <th>4</th>\n",
       "      <td>NaN</td>\n",
       "      <td>05/14/2018</td>\n",
       "      <td>Sales Receipt</td>\n",
       "      <td>#1617</td>\n",
       "      <td>NaN</td>\n",
       "      <td>FireWrap  Grip Kit</td>\n",
       "      <td>1.0</td>\n",
       "      <td>34.95</td>\n",
       "      <td>34.95</td>\n",
       "      <td>109.80</td>\n",
       "    </tr>\n",
       "  </tbody>\n",
       "</table>\n",
       "</div>"
      ],
      "text/plain": [
       "                       Product ID        Date Transaction Type    Num  \\\n",
       "0  FireWrap Grip Kit - Light Blue         NaN              NaN    NaN   \n",
       "1                             NaN  03/23/2018    Sales Receipt  #1394   \n",
       "2                             NaN  04/26/2018    Sales Receipt  #1477   \n",
       "3                             NaN  04/27/2018    Sales Receipt  #1511   \n",
       "4                             NaN  05/14/2018    Sales Receipt  #1617   \n",
       "\n",
       "   Customer                Memo/Description  Qty  Sales Price   Amount  \\\n",
       "0       NaN                             NaN  NaN          NaN      NaN   \n",
       "1       NaN  FireWrap  Grip Kit - Pre-Order  1.0        24.95  24.95     \n",
       "2       NaN  FireWrap  Grip Kit - Pre-Order  1.0        24.95  24.95     \n",
       "3       NaN  FireWrap  Grip Kit - Pre-Order  1.0        24.95  24.95     \n",
       "4       NaN              FireWrap  Grip Kit  1.0        34.95  34.95     \n",
       "\n",
       "    Balance  \n",
       "0       NaN  \n",
       "1   24.95    \n",
       "2   49.90    \n",
       "3   74.85    \n",
       "4  109.80    "
      ]
     },
     "execution_count": 51,
     "metadata": {},
     "output_type": "execute_result"
    }
   ],
   "source": [
    "df.head()"
   ]
  },
  {
   "cell_type": "code",
   "execution_count": 34,
   "id": "9583b586-cdcb-4972-8a88-10969cddf248",
   "metadata": {},
   "outputs": [
    {
     "data": {
      "text/plain": [
       "1467"
      ]
     },
     "execution_count": 34,
     "metadata": {},
     "output_type": "execute_result"
    }
   ],
   "source": [
    "df['Date'].nunique()"
   ]
  },
  {
   "cell_type": "code",
   "execution_count": 35,
   "id": "e2ef7437-1f19-40d8-b060-912f565d97eb",
   "metadata": {},
   "outputs": [
    {
     "data": {
      "text/plain": [
       "array([nan, 'Sales Receipt', 'Invoice', 'Refund', 'Credit Memo'],\n",
       "      dtype=object)"
      ]
     },
     "execution_count": 35,
     "metadata": {},
     "output_type": "execute_result"
    }
   ],
   "source": [
    "df['Transaction Type'].unique()"
   ]
  },
  {
   "cell_type": "code",
   "execution_count": 36,
   "id": "2dd8cc34-c087-44fc-a1ed-83efff4f88ba",
   "metadata": {},
   "outputs": [
    {
     "data": {
      "text/plain": [
       "array([nan, '#1394', '#1477', ..., 'M-072022-001', 'M-090722-003',\n",
       "       'M-092522-001'], dtype=object)"
      ]
     },
     "execution_count": 36,
     "metadata": {},
     "output_type": "execute_result"
    }
   ],
   "source": [
    "df['Num'].unique()"
   ]
  },
  {
   "cell_type": "code",
   "execution_count": 37,
   "id": "ca0eb756-6b53-4917-b86b-38a365d065d6",
   "metadata": {},
   "outputs": [
    {
     "data": {
      "text/plain": [
       "array([nan, 'FireWrap  Grip Kit - Pre-Order', 'FireWrap  Grip Kit',\n",
       "       'P.O. Number: 19-0213-5 \\nJason Oliva\\n2040 N 51st St\\nMilwaukee, WI 53208',\n",
       "       'FireWrap Grip Kit', 'FireWrap Grip Kit - Light Blue',\n",
       "       'FireWrap Grip Kit - Pink', 'P.O. Number: 19-0103-11',\n",
       "       'P.O. Number: 19-0129-1 \\nBradford McCutcheon\\n10538 Le Mans Rd\\nDallas, TX 75238',\n",
       "       'P.O. Number: 19-0129-2\\nSean Wilson\\n5150 Hampshire Dr\\nShelby Township, MI 48316',\n",
       "       'FireWrap Grip-Kit für Halligan-Tool - Schwarz',\n",
       "       'Custom Install - Halligan w/ red and Hammer all black.',\n",
       "       'Thin Red Line',\n",
       "       'P.O. Number: 19-0204-3 \\nDayton Shireman\\n537 SE Canterbury LN\\nLees Summit, MO 64063',\n",
       "       'Thin Red Line Edition', 'FireWrap® Grip Kit',\n",
       "       'Matthew Sapp\\n7234 Waters Edge Dr\\nThe Colony TX 75056',\n",
       "       'Dan Mallory\\nFort Calhoun Fire-Rescue\\n5543 Clearwater Dr\\nFort Calhoun NE 68023',\n",
       "       'Charles Cerone\\n282 3rd St \\nSaddle Brook NJ 07663',\n",
       "       'Alex Tull\\n417 E Liberty Ave\\nSpokane WA 99207',\n",
       "       'P.O. Number: 19-0624-3 \\nAriel Jackson\\n14 Firmin Way\\nHanover, PA 17331',\n",
       "       'FireWrap Grip Kit (New)',\n",
       "       'P.O. Number: 19-0717-13 \\nSean Wilson\\n5150 Hampshire Dr\\nShelby Township, MI 48316',\n",
       "       'P.O. Number: 19-0703-2\\nMark Corisini\\n1129 S Euclid Ave\\nVilla Park, IL 60181',\n",
       "       \"P.O. Number: 19-0703-2 '\\nAlex Merrick\\n9426 East Woodmark\\nConroe, TX 77304\",\n",
       "       'FireWrap Grip Kit - Black (New)', 'FireWrap Grip Kit - Black',\n",
       "       'FireWrap® Grip Kit - Black', 'FireWrap® Grip Kit Black',\n",
       "       'FIREWRAP® GRIP KIT\\r\\nColor: Black',\n",
       "       'FIREWRAP® GRIP KIT - Yes, I understand.\\r\\nColor: Black',\n",
       "       'Capt. Dan McCleese\\nDFR- FS 06\\n13712 Dumfries Road\\nManassas VA 20112\\nUnited States',\n",
       "       'PO#:  949766', 'PO#:  949770', 'P.O. Number: 19-0129-2',\n",
       "       'P.O. Number: 19-0519-2 \\nMichael Gafford\\n1160 Belt Line Rd\\nCollinsville, IL 62234',\n",
       "       'P.O. Number: 19-0517-2 \\nJake Rusch\\n2143 Longhunter Chase Dr\\nSpring Hill, TN 37174',\n",
       "       'Craig Jarman\\nSouthwood Fire Dept.\\n1211 Strawberry Branch Dr\\nKingston NC 28501',\n",
       "       'Drew Belue\\n7892 East 400 North\\nRolling Prairie IN 46371',\n",
       "       'Dustin Ford\\n1052 Belmont Rd\\nSardis MS 38666',\n",
       "       'P.O. Number: 19-0624-3',\n",
       "       'P.O. Number: 19-0610-2 \\nTyler Cannaday\\n576 Rosedale Dr\\nAynor, SC 29511',\n",
       "       'FireWrap Grip Kit - Blue (New)', 'FireWrap Grip Kit - Blue',\n",
       "       'FireWrap® Grip Kit - Blue', 'FireWrap® Grip Kit Blue',\n",
       "       'FIREWRAP® GRIP KIT\\r\\nColor: Blue',\n",
       "       'FIREWRAP® GRIP KIT - Yes, I understand.\\r\\nColor: Blue',\n",
       "       'FireWrap Grip Kit Installed',\n",
       "       'P.O. Number: 18-0728-1\\n36” Fire Maul, add end cap, add glow handle\\nwrap, steel collar',\n",
       "       'FireWrap Grip-Kit für Halligan-Tool - Aqua (Nachtleuchtend)',\n",
       "       'P.O. Number: 19-0227-3\\n Joseph Tabor\\n10179 Joyners Bridge Rd\\nCarrsville, VA 23315',\n",
       "       'Adam G Cole\\n300 SW Wilson Ln\\nBoardman OR 97818-8029',\n",
       "       'P.O. Number: 19-0601-12 \\nDonald Washburn\\n108 Litchfield Lane\\nKnott Island, NC 27950',\n",
       "       'FireWrap Grip Kit - Glow Aqua (New)',\n",
       "       'FireWrap Grip Kit - Glow Aqua',\n",
       "       'FireWrap® Grip Kit - GLOW - Aqua',\n",
       "       'FireWrap Grip Kit - GLOW AQUA', 'FireWrap® Grip Kit GLOW - Aqua',\n",
       "       'FIREWRAP® GRIP KIT\\r\\nColor: GLOW Green (+$12.95)',\n",
       "       'FIREWRAP® GRIP KIT\\r\\nColor: GLOW Aqua (+$12.95)',\n",
       "       'FIREWRAP® GRIP KIT - Yes, I understand.\\r\\nColor: GLOW Aqua (+$12.95)',\n",
       "       'FIREWRAP® GRIP KIT\\r\\nColor: GLOW Aqua (+$13)',\n",
       "       'FireWrap® Grip Kit - Glow Aqua', 'FireWrap™ Grip Kit',\n",
       "       'FireWrap Grip Kit - Glow - Green',\n",
       "       'SHOW Special FireWrap® Grip Kit',\n",
       "       'FireWrap® Grip Kit - GLOW - Green', 'Grip Kit - GLOW - Green',\n",
       "       'FireWrap® Grip Kit - GLOW - Green - FireWrap® Grip Kit - GLOW - Green',\n",
       "       'FIREWRAP® GRIP KIT - Yes, I understand.\\r\\nColor: GLOW Green (+$12.95)',\n",
       "       'FIREWRAP® GRIP KIT\\r\\nColor: GLOW Green (+$13)',\n",
       "       'FireWrap® Grip Kit - Glow Green', 'P.O. Number: 19-0528-5',\n",
       "       'Zachary Cramer\\n33 E Main St\\nSykesville PA 15865',\n",
       "       'Ryan Amormino\\nClinton Twp Fire Dept.\\n42601 Romeo Plank Rd\\nClinton Township MI 48038',\n",
       "       'P.O. Number: 19-0619-7 \\nRyan Reeves\\n5885 Scarlet Oak Rd\\nGuthrie, OK 73044',\n",
       "       'P.O. Number: 19-0725-3\\nJason Shelby\\n1439 Boyce Rd\\nWaxahachie, TX 75165',\n",
       "       'FireWrap Grip Kit - Orange (New)', 'FireWrap® Grip Kit - Orange',\n",
       "       'FireWrap Grip Kit - Orange', 'FireWrap® Grip Kit Orange',\n",
       "       'FIREWRAP® GRIP KIT\\r\\nColor: Orange',\n",
       "       'FIREWRAP® GRIP KIT - Yes, I understand.\\r\\nColor: Orange',\n",
       "       'P.O. Number: 19-0128-4 \\nCorey Eaton\\n2040 Newborn Rd\\nRutledge, GA 30663',\n",
       "       'FireWrap Grip-Kit für Halligan-Tool - Rot',\n",
       "       'FireWrap® Grip Kit - Red - FireWrap® Grip Kit - Red',\n",
       "       'P.O. Number: 19-0624-1 \\nSean Wilson\\n5150 Hampshire Dr\\nShelby Township, MI 48316',\n",
       "       'P.O. Number: 19-0612-5', 'P.O. Number: 19-0717-13',\n",
       "       'FireWrap Grip Kit - Red (New)', 'FireWrap® Grip Kit - Red',\n",
       "       'FireWrap® Grip Kit Red', 'FIREWRAP® GRIP KIT\\r\\nColor: Red',\n",
       "       'FIREWRAP® GRIP KIT - Yes, I understand.\\r\\nColor: Red',\n",
       "       'Drop Ship: Tim Day, 12774 Cooks Mill Road, Lanexa, Virginia, 23089,',\n",
       "       'FireWrap Grip-Kit für Halligan-Tool - Gelb',\n",
       "       'P.O. Number: 19-0209-5 \\nDaniel Murray\\n24 Cole Street 1\\nEast Providence, RI 02914',\n",
       "       'P.O. Number: 19-0326-7 \\nDan Murray\\n50 Peace Pipe Trail South\\nWakefield, RI 02879',\n",
       "       'FireWrap Grip Kit - Yellow (New)', 'FireWrap® Grip Kit - Yellow',\n",
       "       'FireWrap® Grip Kit Yellow', 'FIREWRAP® GRIP KIT\\r\\nColor: Yellow',\n",
       "       'FIREWRAP® GRIP KIT - Yes, I understand.\\r\\nColor: Yellow',\n",
       "       'FIREWRAP® GRIP KIT\\tGLOW Aqua',\n",
       "       'FIREWRAP® GRIP KIT\\tGLOW Aqua - UPGRADE FOR TSR FIRE MAUL',\n",
       "       'FIREWRAP® GRIP KIT\\tGLOW Green', 'FIREWRAP® GRIP KIT \\tBlack',\n",
       "       'FIREWRAP® GRIP KIT\\tBlue',\n",
       "       'FIREWRAP® GRIP KIT - Yes, I understand.\\r\\nColor: Green',\n",
       "       'FIREWRAP® GRIP KIT\\tGreen', 'FIREWRAP® GRIP KIT\\r\\nColor: Green',\n",
       "       'FireWrap® Grip Kit - Green', 'FIREWRAP® GRIP KIT\\tOrange',\n",
       "       'FIREWRAP® GRIP KIT \\tRed',\n",
       "       'FIREWRAP® GRIP KIT - Yes, I understand.\\r\\nColor: White',\n",
       "       'FIREWRAP® GRIP KIT \\tWhite', 'FIREWRAP® GRIP KIT\\r\\nColor: White',\n",
       "       'FIREWRAP® GRIP KIT \\t- PURPLE', 'FireWrap® Grip Kit - White',\n",
       "       'FIREWRAP® GRIP KIT\\tYellow'], dtype=object)"
      ]
     },
     "execution_count": 37,
     "metadata": {},
     "output_type": "execute_result"
    }
   ],
   "source": [
    "df['Memo/Description'].unique()"
   ]
  },
  {
   "cell_type": "code",
   "execution_count": null,
   "id": "82f2a4c2-e305-408d-b9fe-6f25af0aeb98",
   "metadata": {},
   "outputs": [],
   "source": []
  }
 ],
 "metadata": {
  "kernelspec": {
   "display_name": "Python (learn-env)",
   "language": "python",
   "name": "learn-env"
  },
  "language_info": {
   "codemirror_mode": {
    "name": "ipython",
    "version": 3
   },
   "file_extension": ".py",
   "mimetype": "text/x-python",
   "name": "python",
   "nbconvert_exporter": "python",
   "pygments_lexer": "ipython3",
   "version": "3.8.5"
  }
 },
 "nbformat": 4,
 "nbformat_minor": 5
}
